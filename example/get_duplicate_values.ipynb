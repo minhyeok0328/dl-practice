{
 "cells": [
  {
   "cell_type": "code",
   "execution_count": null,
   "metadata": {},
   "outputs": [],
   "source": [
    "# 두 list가 서로 중복된 값을 가지고 있는 값을 찾기\n",
    "def get_duplicate_values(first_data, second_data):\n",
    "    result = []\n",
    "\n",
    "    for data in first_data:\n",
    "        if data in second_data:\n",
    "            result.append(data)\n",
    "\n",
    "    return list(set(result))\n",
    "\n",
    "first_data = [1, 2, 3, 1, 1, 2, 3, 4, 5, 5, 7, 7]\n",
    "second_data = [4, 3, 1, 1, 2, 5, 6, 1, 12, 5, 6, 7, 677]\n",
    "\n",
    "print(get_duplicate_values(first_data, second_data))\n"
   ]
  }
 ],
 "metadata": {
  "language_info": {
   "name": "python"
  }
 },
 "nbformat": 4,
 "nbformat_minor": 2
}
