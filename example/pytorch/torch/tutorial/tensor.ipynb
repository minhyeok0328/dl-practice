{
 "cells": [
  {
   "cell_type": "code",
   "execution_count": 52,
   "metadata": {},
   "outputs": [
    {
     "name": "stdout",
     "output_type": "stream",
     "text": [
      "tensor([[110., 116., 122., 128.],\n",
      "        [263., 278., 293., 308.],\n",
      "        [416., 440., 464., 488.],\n",
      "        [569., 602., 635., 668.]])\n",
      "tensor([[ 13.,  28.,  45.],\n",
      "        [ 64.,  85., 108.],\n",
      "        [133., 160., 189.],\n",
      "        [220., 253., 288.]])\n",
      "ㅡㅡㅡㅡㅡㅡㅡㅡㅡㅡㅡㅡㅡㅡㅡㅡㅡㅡㅡㅡㅡㅡㅡㅡㅡㅡㅡㅡㅡㅡ\n",
      "tensor([[ 1.,  2.,  3., 13., 14., 15.],\n",
      "        [ 4.,  5.,  6., 16., 17., 18.],\n",
      "        [ 7.,  8.,  9., 19., 20., 21.],\n",
      "        [10., 11., 12., 22., 23., 24.]])\n",
      "tensor([[ 1.,  2.,  3.],\n",
      "        [ 4.,  5.,  6.],\n",
      "        [ 7.,  8.,  9.],\n",
      "        [10., 11., 12.],\n",
      "        [13., 14., 15.],\n",
      "        [16., 17., 18.],\n",
      "        [19., 20., 21.],\n",
      "        [22., 23., 24.]])\n"
     ]
    }
   ],
   "source": [
    "# torch로 Tensor 데이터 타입 다루기\n",
    "import torch\n",
    "\n",
    "tensor1 = torch.Tensor([\n",
    "    [1, 2, 3],\n",
    "    [4, 5, 6],\n",
    "    [7, 8, 9],\n",
    "    [10, 11, 12]\n",
    "])\n",
    "\n",
    "tensor2 = torch.Tensor([\n",
    "    [13, 14, 15],\n",
    "    [16, 17, 18],\n",
    "    [19, 20, 21],\n",
    "    [22, 23, 24]\n",
    "])\n",
    "\n",
    "test1 = tensor1.matmul(tensor2.view(3, 4))\n",
    "test2 = tensor1.mul(tensor2)\n",
    "\n",
    "print(test1)\n",
    "print(test2)\n",
    "\n",
    "print('ㅡ'*30)\n",
    "tensor_cat = torch.cat([tensor1, tensor2], dim=1)\n",
    "tensor_cat2 = torch.cat([tensor1, tensor2], dim=0)\n",
    "\n",
    "print(tensor_cat)\n",
    "print(tensor_cat2)\n"
   ]
  }
 ],
 "metadata": {
  "kernelspec": {
   "display_name": "Python 3",
   "language": "python",
   "name": "python3"
  },
  "language_info": {
   "codemirror_mode": {
    "name": "ipython",
    "version": 3
   },
   "file_extension": ".py",
   "mimetype": "text/x-python",
   "name": "python",
   "nbconvert_exporter": "python",
   "pygments_lexer": "ipython3",
   "version": "3.10.6"
  }
 },
 "nbformat": 4,
 "nbformat_minor": 2
}
