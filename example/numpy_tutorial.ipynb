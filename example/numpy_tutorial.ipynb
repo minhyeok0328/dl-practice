{
 "cells": [
  {
   "cell_type": "code",
   "execution_count": 32,
   "metadata": {},
   "outputs": [
    {
     "name": "stdout",
     "output_type": "stream",
     "text": [
      "[[           49621248                   0 3347416318440636417\n",
      "                  800]\n",
      " [                  9     139852989932607            45800604\n",
      "                    2]\n",
      " [                 12                  -1     139852990028848\n",
      "  7596557039241789441]\n",
      " [    139852989932604                   0                   0\n",
      "                    0]\n",
      " [                  0                   0                   0\n",
      "                    0]\n",
      " [                  0                   0     139852989932604\n",
      "                    0]\n",
      " [    139852989932604     139852989932606 7812730951588396320\n",
      "  2314885530447914863]\n",
      " [6566369517056827424 3346290380419783986 7310579611546251107\n",
      "   732159760013993768]\n",
      " [2314885530818453536 2322271028727018831 2318271253778540328\n",
      "                   49]\n",
      " [    139853915790304     139853915790304 8100131249280790136\n",
      "      139638147210535]]\n"
     ]
    }
   ],
   "source": [
    "import numpy as np\n",
    "\n",
    "data = np.empty((10, 4), dtype=int)\n",
    "\n",
    "print(data)"
   ]
  }
 ],
 "metadata": {
  "kernelspec": {
   "display_name": "deep-learning-env",
   "language": "python",
   "name": "python3"
  },
  "language_info": {
   "codemirror_mode": {
    "name": "ipython",
    "version": 3
   },
   "file_extension": ".py",
   "mimetype": "text/x-python",
   "name": "python",
   "nbconvert_exporter": "python",
   "pygments_lexer": "ipython3",
   "version": "3.9.19"
  }
 },
 "nbformat": 4,
 "nbformat_minor": 2
}
