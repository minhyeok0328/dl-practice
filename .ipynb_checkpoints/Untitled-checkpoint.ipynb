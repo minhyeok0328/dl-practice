{
 "cells": [
  {
   "cell_type": "code",
   "execution_count": 5,
   "id": "e626a1db-82b3-49f1-9482-c3f4798686f9",
   "metadata": {},
   "outputs": [
    {
     "ename": "ImportError",
     "evalue": "cannot import name 'int' from 'typing' (/opt/conda/lib/python3.11/typing.py)",
     "output_type": "error",
     "traceback": [
      "\u001b[0;31m---------------------------------------------------------------------------\u001b[0m",
      "\u001b[0;31mImportError\u001b[0m                               Traceback (most recent call last)",
      "Cell \u001b[0;32mIn[5], line 1\u001b[0m\n\u001b[0;32m----> 1\u001b[0m \u001b[38;5;28;01mfrom\u001b[39;00m \u001b[38;5;21;01mtyping\u001b[39;00m \u001b[38;5;28;01mimport\u001b[39;00m List, \u001b[38;5;28mint\u001b[39m, Set\n\u001b[1;32m      3\u001b[0m \u001b[38;5;66;03m# 두 list가 서로 중복된 값을 가지고 있는 값을 찾기\u001b[39;00m\n\u001b[1;32m      4\u001b[0m \u001b[38;5;28;01mdef\u001b[39;00m \u001b[38;5;21mget_duplicate_values\u001b[39m(first_data: List[\u001b[38;5;28mint\u001b[39m], second_data: List[\u001b[38;5;28mint\u001b[39m]) \u001b[38;5;241m-\u001b[39m\u001b[38;5;241m>\u001b[39m List[\u001b[38;5;28mint\u001b[39m]:\n",
      "\u001b[0;31mImportError\u001b[0m: cannot import name 'int' from 'typing' (/opt/conda/lib/python3.11/typing.py)"
     ]
    }
   ],
   "source": [
    "from typing import List, Set\n",
    "\n",
    "# 두 list가 서로 중복된 값을 가지고 있는 값을 찾기\n",
    "def get_duplicate_values(first_data: List[int], second_data: List[int]) -> List[int]:\n",
    "    result: List[int] = []\n",
    "\n",
    "    for data in first_data:\n",
    "        if data in second_data:\n",
    "            result.append(data)\n",
    "\n",
    "    return list(set(result))\n",
    "\n",
    "first_data = [1, 2, 3, 1, 1, 2, 3, 4, 5, 5, 7, 7]\n",
    "second_data = [4, 3, 1, 1, 2, 5, 6, 1, 12, 5, 6, 7, 677]\n",
    "\n",
    "print(get_duplicate_values(first_data, second_data))\n"
   ]
  },
  {
   "cell_type": "code",
   "execution_count": null,
   "id": "edf6b922-523b-4e57-a49e-3ce06eaa005b",
   "metadata": {},
   "outputs": [],
   "source": []
  },
  {
   "cell_type": "code",
   "execution_count": null,
   "id": "2d784225-66d6-4352-a871-b08a718f654d",
   "metadata": {},
   "outputs": [],
   "source": []
  },
  {
   "cell_type": "code",
   "execution_count": null,
   "id": "a58f04ee-0a32-4664-961b-645006525e4c",
   "metadata": {},
   "outputs": [],
   "source": []
  }
 ],
 "metadata": {
  "kernelspec": {
   "display_name": "Python 3 (ipykernel)",
   "language": "python",
   "name": "python3"
  },
  "language_info": {
   "codemirror_mode": {
    "name": "ipython",
    "version": 3
   },
   "file_extension": ".py",
   "mimetype": "text/x-python",
   "name": "python",
   "nbconvert_exporter": "python",
   "pygments_lexer": "ipython3",
   "version": "3.11.7"
  }
 },
 "nbformat": 4,
 "nbformat_minor": 5
}
